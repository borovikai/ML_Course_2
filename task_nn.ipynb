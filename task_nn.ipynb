{
  "nbformat": 4,
  "nbformat_minor": 0,
  "metadata": {
    "kernelspec": {
      "display_name": "Python 2",
      "language": "python",
      "name": "python2"
    },
    "language_info": {
      "codemirror_mode": {
        "name": "ipython",
        "version": 2
      },
      "file_extension": ".py",
      "mimetype": "text/x-python",
      "name": "python",
      "nbconvert_exporter": "python",
      "pygments_lexer": "ipython2",
      "version": "2.7.10"
    },
    "colab": {
      "name": "task_nn.ipynb",
      "provenance": [],
      "collapsed_sections": [],
      "include_colab_link": true
    }
  },
  "cells": [
    {
      "cell_type": "markdown",
      "metadata": {
        "id": "view-in-github",
        "colab_type": "text"
      },
      "source": [
        "<a href=\"https://colab.research.google.com/github/borovikai/ML_Course_2/blob/master/task_nn.ipynb\" target=\"_parent\"><img src=\"https://colab.research.google.com/assets/colab-badge.svg\" alt=\"Open In Colab\"/></a>"
      ]
    },
    {
      "cell_type": "markdown",
      "metadata": {
        "id": "zPMypgDS-oxl",
        "colab_type": "text"
      },
      "source": [
        "## Нейронные сети: зависимость ошибки и обучающей способности от числа нейронов"
      ]
    },
    {
      "cell_type": "markdown",
      "metadata": {
        "id": "DH5fIsxp-oxo",
        "colab_type": "text"
      },
      "source": [
        "В этом задании вы будете настраивать двуслойную нейронную сеть для решения задачи многоклассовой классификации. Предлагается выполнить процедуры загрузки и разбиения входных данных, обучения сети и подсчета ошибки классификации. Предлагается определить оптимальное количество нейронов в скрытом слое сети. Нужно так подобрать число нейронов, чтобы модель была с одной стороны несложной, а с другой стороны давала бы достаточно точный прогноз и не переобучалась. Цель задания -- показать, как зависит точность и обучающая способность сети от ее сложности."
      ]
    },
    {
      "cell_type": "markdown",
      "metadata": {
        "id": "APARbsjH-oxp",
        "colab_type": "text"
      },
      "source": [
        "Для решения задачи многоклассовой классификации предлагается воспользоваться библиотекой построения нейронных сетей [pybrain](http://pybrain.org/). Библиотека содержит основные модули инициализации двуслойной нейронной сети прямого распространения, оценки ее параметров с помощью метода обратного распространения ошибки (backpropagation) и подсчета ошибки.\n",
        "\n",
        "Установить библиотеку pybrain можно с помощью стандартной системы управления пакетами pip:\n",
        "\n",
        "```\n",
        "pip install pybrain\n",
        "```\n",
        "Кроме того, для установки библиотеки можно использовать и другие способы, приведенные в [документации](https://github.com/pybrain/pybrain/wiki/installation). "
      ]
    },
    {
      "cell_type": "code",
      "metadata": {
        "id": "7eabD049_AOn",
        "colab_type": "code",
        "colab": {
          "base_uri": "https://localhost:8080/",
          "height": 187
        },
        "outputId": "1bdb2304-ef91-4fc8-9d46-2f54919851a2"
      },
      "source": [
        "!pip install pybrain"
      ],
      "execution_count": 6,
      "outputs": [
        {
          "output_type": "stream",
          "text": [
            "Collecting pybrain\n",
            "\u001b[?25l  Downloading https://files.pythonhosted.org/packages/be/42/b40b64b7163d360425692db2f15a8c1d8fe4a18f1c5626cf7fcb5f5d5fb6/PyBrain-0.3.tar.gz (262kB)\n",
            "\r\u001b[K     |█▎                              | 10kB 16.4MB/s eta 0:00:01\r\u001b[K     |██▌                             | 20kB 3.1MB/s eta 0:00:01\r\u001b[K     |███▊                            | 30kB 4.4MB/s eta 0:00:01\r\u001b[K     |█████                           | 40kB 2.9MB/s eta 0:00:01\r\u001b[K     |██████▎                         | 51kB 3.6MB/s eta 0:00:01\r\u001b[K     |███████▌                        | 61kB 4.2MB/s eta 0:00:01\r\u001b[K     |████████▊                       | 71kB 4.9MB/s eta 0:00:01\r\u001b[K     |██████████                      | 81kB 5.5MB/s eta 0:00:01\r\u001b[K     |███████████▎                    | 92kB 6.1MB/s eta 0:00:01\r\u001b[K     |████████████▌                   | 102kB 4.8MB/s eta 0:00:01\r\u001b[K     |█████████████▊                  | 112kB 4.8MB/s eta 0:00:01\r\u001b[K     |███████████████                 | 122kB 4.8MB/s eta 0:00:01\r\u001b[K     |████████████████▎               | 133kB 4.8MB/s eta 0:00:01\r\u001b[K     |█████████████████▌              | 143kB 4.8MB/s eta 0:00:01\r\u001b[K     |██████████████████▊             | 153kB 4.8MB/s eta 0:00:01\r\u001b[K     |████████████████████            | 163kB 4.8MB/s eta 0:00:01\r\u001b[K     |█████████████████████▎          | 174kB 4.8MB/s eta 0:00:01\r\u001b[K     |██████████████████████▌         | 184kB 4.8MB/s eta 0:00:01\r\u001b[K     |███████████████████████▊        | 194kB 4.8MB/s eta 0:00:01\r\u001b[K     |█████████████████████████       | 204kB 4.8MB/s eta 0:00:01\r\u001b[K     |██████████████████████████▎     | 215kB 4.8MB/s eta 0:00:01\r\u001b[K     |███████████████████████████▌    | 225kB 4.8MB/s eta 0:00:01\r\u001b[K     |████████████████████████████▊   | 235kB 4.8MB/s eta 0:00:01\r\u001b[K     |██████████████████████████████  | 245kB 4.8MB/s eta 0:00:01\r\u001b[K     |███████████████████████████████▎| 256kB 4.8MB/s eta 0:00:01\r\u001b[K     |████████████████████████████████| 266kB 4.8MB/s \n",
            "\u001b[?25hBuilding wheels for collected packages: pybrain\n",
            "  Building wheel for pybrain (setup.py) ... \u001b[?25l\u001b[?25hdone\n",
            "  Created wheel for pybrain: filename=PyBrain-0.3-cp27-none-any.whl size=399045 sha256=1fa8b341c9ad3c344be1539a7a547f6c5657f026c0d72caa1af041020191e97d\n",
            "  Stored in directory: /root/.cache/pip/wheels/21/60/92/907b453266e898b6914f7b175c7f346b4d7c349e2e28ce2b53\n",
            "Successfully built pybrain\n",
            "Installing collected packages: pybrain\n",
            "Successfully installed pybrain-0.3\n"
          ],
          "name": "stdout"
        }
      ]
    },
    {
      "cell_type": "code",
      "metadata": {
        "id": "GOqnootR_Nym",
        "colab_type": "code",
        "colab": {
          "base_uri": "https://localhost:8080/",
          "height": 85
        },
        "outputId": "42b21641-73ab-427b-a389-adc7577c3cf5"
      },
      "source": [
        "!pip install sklearn"
      ],
      "execution_count": 8,
      "outputs": [
        {
          "output_type": "stream",
          "text": [
            "Requirement already satisfied: sklearn in /usr/local/lib/python2.7/dist-packages (0.0)\n",
            "Requirement already satisfied: scikit-learn in /usr/local/lib/python2.7/dist-packages (from sklearn) (0.20.3)\n",
            "Requirement already satisfied: scipy>=0.13.3 in /usr/local/lib/python2.7/dist-packages (from scikit-learn->sklearn) (1.2.2)\n",
            "Requirement already satisfied: numpy>=1.8.2 in /usr/local/lib/python2.7/dist-packages (from scikit-learn->sklearn) (1.16.4)\n"
          ],
          "name": "stdout"
        }
      ]
    },
    {
      "cell_type": "code",
      "metadata": {
        "id": "656uiEIR_XcT",
        "colab_type": "code",
        "colab": {
          "base_uri": "https://localhost:8080/",
          "height": 1000
        },
        "outputId": "d7a76428-de89-4f45-fc89-003f013e863b"
      },
      "source": [
        "!apt-get install python-sklearn"
      ],
      "execution_count": 10,
      "outputs": [
        {
          "output_type": "stream",
          "text": [
            "Reading package lists... Done\n",
            "Building dependency tree       \n",
            "Reading state information... Done\n",
            "The following additional packages will be installed:\n",
            "  fonts-lyx javascript-common libjs-jquery-ui python-attr\n",
            "  python-backports.functools-lru-cache python-cycler python-dateutil\n",
            "  python-decorator python-funcsigs python-joblib python-matplotlib\n",
            "  python-matplotlib-data python-nose python-olefile python-pil\n",
            "  python-pkg-resources python-pluggy python-py python-pyparsing python-pytest\n",
            "  python-scipy python-simplejson python-six python-sklearn-lib\n",
            "  python-subprocess32 python-tz ttf-bitstream-vera\n",
            "Suggested packages:\n",
            "  apache2 | lighttpd | httpd libjs-jquery-ui-docs python-attr-doc\n",
            "  python-cycler-doc python-funcsigs-doc dvipng gir1.2-gtk-3.0 ghostscript\n",
            "  inkscape ipython python-cairocffi python-configobj python-excelerator\n",
            "  python-gobject python-matplotlib-doc python-qt4 python-sip python-tornado\n",
            "  python-traits python-wxgtk3.0 texlive-extra-utils texlive-latex-extra\n",
            "  ttf-staypuft python-coverage python-nose-doc python-pil-doc python-pil-dbg\n",
            "  python-setuptools subversion python-pytest-xdist python-pyparsing-doc\n",
            "  python-mock python-scipy-doc python-dap python-scikits-optimization\n",
            "  python-sklearn-doc\n",
            "The following NEW packages will be installed:\n",
            "  fonts-lyx javascript-common libjs-jquery-ui python-attr\n",
            "  python-backports.functools-lru-cache python-cycler python-dateutil\n",
            "  python-decorator python-funcsigs python-joblib python-matplotlib\n",
            "  python-matplotlib-data python-nose python-olefile python-pil\n",
            "  python-pkg-resources python-pluggy python-py python-pyparsing python-pytest\n",
            "  python-scipy python-simplejson python-six python-sklearn python-sklearn-lib\n",
            "  python-subprocess32 python-tz ttf-bitstream-vera\n",
            "0 upgraded, 28 newly installed, 0 to remove and 28 not upgraded.\n",
            "Need to get 22.2 MB of archives.\n",
            "After this operation, 88.0 MB of additional disk space will be used.\n",
            "Get:1 http://archive.ubuntu.com/ubuntu bionic-updates/universe amd64 fonts-lyx all 2.2.4-0ubuntu0.18.04.1 [155 kB]\n",
            "Get:2 http://archive.ubuntu.com/ubuntu bionic/main amd64 javascript-common all 11 [6,066 B]\n",
            "Get:3 http://archive.ubuntu.com/ubuntu bionic/universe amd64 libjs-jquery-ui all 1.12.1+dfsg-5 [232 kB]\n",
            "Get:4 http://archive.ubuntu.com/ubuntu bionic/main amd64 python-attr all 17.4.0-2 [23.7 kB]\n",
            "Get:5 http://archive.ubuntu.com/ubuntu bionic/universe amd64 python-backports.functools-lru-cache all 1.4-2 [5,960 B]\n",
            "Get:6 http://archive.ubuntu.com/ubuntu bionic/main amd64 python-six all 1.11.0-2 [11.3 kB]\n",
            "Get:7 http://archive.ubuntu.com/ubuntu bionic/universe amd64 python-cycler all 0.10.0-1 [7,520 B]\n",
            "Get:8 http://archive.ubuntu.com/ubuntu bionic/main amd64 python-dateutil all 2.6.1-1 [60.6 kB]\n",
            "Get:9 http://archive.ubuntu.com/ubuntu bionic/main amd64 python-decorator all 4.1.2-1 [9,300 B]\n",
            "Get:10 http://archive.ubuntu.com/ubuntu bionic/main amd64 python-funcsigs all 1.0.2-4 [13.5 kB]\n",
            "Get:11 http://archive.ubuntu.com/ubuntu bionic/universe amd64 python-joblib all 0.11-1 [112 kB]\n",
            "Get:12 http://archive.ubuntu.com/ubuntu bionic/universe amd64 ttf-bitstream-vera all 1.10-8 [352 kB]\n",
            "Get:13 http://archive.ubuntu.com/ubuntu bionic/universe amd64 python-matplotlib-data all 2.1.1-2ubuntu3 [3,774 kB]\n",
            "Get:14 http://archive.ubuntu.com/ubuntu bionic/main amd64 python-pyparsing all 2.2.0+dfsg1-2 [52.1 kB]\n",
            "Get:15 http://archive.ubuntu.com/ubuntu bionic/main amd64 python-tz all 2018.3-2 [31.6 kB]\n",
            "Get:16 http://archive.ubuntu.com/ubuntu bionic/universe amd64 python-subprocess32 amd64 3.2.7-3 [27.2 kB]\n",
            "Get:17 http://archive.ubuntu.com/ubuntu bionic/universe amd64 python-matplotlib amd64 2.1.1-2ubuntu3 [3,901 kB]\n",
            "Get:18 http://archive.ubuntu.com/ubuntu bionic/main amd64 python-pkg-resources all 39.0.1-2 [128 kB]\n",
            "Get:19 http://archive.ubuntu.com/ubuntu bionic/universe amd64 python-nose all 1.3.7-3 [116 kB]\n",
            "Get:20 http://archive.ubuntu.com/ubuntu bionic/main amd64 python-olefile all 0.45.1-1 [33.2 kB]\n",
            "Get:21 http://archive.ubuntu.com/ubuntu bionic/main amd64 python-pil amd64 5.1.0-1 [328 kB]\n",
            "Get:22 http://archive.ubuntu.com/ubuntu bionic/universe amd64 python-pluggy all 0.6.0-1 [12.2 kB]\n",
            "Get:23 http://archive.ubuntu.com/ubuntu bionic/universe amd64 python-py all 1.5.2-1 [65.1 kB]\n",
            "Get:24 http://archive.ubuntu.com/ubuntu bionic/universe amd64 python-pytest all 3.3.2-2 [142 kB]\n",
            "Get:25 http://archive.ubuntu.com/ubuntu bionic/main amd64 python-simplejson amd64 3.13.2-1 [61.2 kB]\n",
            "Get:26 http://archive.ubuntu.com/ubuntu bionic/universe amd64 python-scipy amd64 0.19.1-2ubuntu1 [9,689 kB]\n",
            "Get:27 http://archive.ubuntu.com/ubuntu bionic/universe amd64 python-sklearn-lib amd64 0.19.1-3 [1,521 kB]\n",
            "Get:28 http://archive.ubuntu.com/ubuntu bionic/universe amd64 python-sklearn all 0.19.1-3 [1,373 kB]\n",
            "Fetched 22.2 MB in 20s (1,106 kB/s)\n",
            "Selecting previously unselected package fonts-lyx.\n",
            "(Reading database ... 132681 files and directories currently installed.)\n",
            "Preparing to unpack .../00-fonts-lyx_2.2.4-0ubuntu0.18.04.1_all.deb ...\n",
            "Unpacking fonts-lyx (2.2.4-0ubuntu0.18.04.1) ...\n",
            "Selecting previously unselected package javascript-common.\n",
            "Preparing to unpack .../01-javascript-common_11_all.deb ...\n",
            "Unpacking javascript-common (11) ...\n",
            "Selecting previously unselected package libjs-jquery-ui.\n",
            "Preparing to unpack .../02-libjs-jquery-ui_1.12.1+dfsg-5_all.deb ...\n",
            "Unpacking libjs-jquery-ui (1.12.1+dfsg-5) ...\n",
            "Selecting previously unselected package python-attr.\n",
            "Preparing to unpack .../03-python-attr_17.4.0-2_all.deb ...\n",
            "Unpacking python-attr (17.4.0-2) ...\n",
            "Selecting previously unselected package python-backports.functools-lru-cache.\n",
            "Preparing to unpack .../04-python-backports.functools-lru-cache_1.4-2_all.deb ...\n",
            "Unpacking python-backports.functools-lru-cache (1.4-2) ...\n",
            "Selecting previously unselected package python-six.\n",
            "Preparing to unpack .../05-python-six_1.11.0-2_all.deb ...\n",
            "Unpacking python-six (1.11.0-2) ...\n",
            "Selecting previously unselected package python-cycler.\n",
            "Preparing to unpack .../06-python-cycler_0.10.0-1_all.deb ...\n",
            "Unpacking python-cycler (0.10.0-1) ...\n",
            "Selecting previously unselected package python-dateutil.\n",
            "Preparing to unpack .../07-python-dateutil_2.6.1-1_all.deb ...\n",
            "Unpacking python-dateutil (2.6.1-1) ...\n",
            "Selecting previously unselected package python-decorator.\n",
            "Preparing to unpack .../08-python-decorator_4.1.2-1_all.deb ...\n",
            "Unpacking python-decorator (4.1.2-1) ...\n",
            "Selecting previously unselected package python-funcsigs.\n",
            "Preparing to unpack .../09-python-funcsigs_1.0.2-4_all.deb ...\n",
            "Unpacking python-funcsigs (1.0.2-4) ...\n",
            "Selecting previously unselected package python-joblib.\n",
            "Preparing to unpack .../10-python-joblib_0.11-1_all.deb ...\n",
            "Unpacking python-joblib (0.11-1) ...\n",
            "Selecting previously unselected package ttf-bitstream-vera.\n",
            "Preparing to unpack .../11-ttf-bitstream-vera_1.10-8_all.deb ...\n",
            "Unpacking ttf-bitstream-vera (1.10-8) ...\n",
            "Selecting previously unselected package python-matplotlib-data.\n",
            "Preparing to unpack .../12-python-matplotlib-data_2.1.1-2ubuntu3_all.deb ...\n",
            "Unpacking python-matplotlib-data (2.1.1-2ubuntu3) ...\n",
            "Selecting previously unselected package python-pyparsing.\n",
            "Preparing to unpack .../13-python-pyparsing_2.2.0+dfsg1-2_all.deb ...\n",
            "Unpacking python-pyparsing (2.2.0+dfsg1-2) ...\n",
            "Selecting previously unselected package python-tz.\n",
            "Preparing to unpack .../14-python-tz_2018.3-2_all.deb ...\n",
            "Unpacking python-tz (2018.3-2) ...\n",
            "Selecting previously unselected package python-subprocess32.\n",
            "Preparing to unpack .../15-python-subprocess32_3.2.7-3_amd64.deb ...\n",
            "Unpacking python-subprocess32 (3.2.7-3) ...\n",
            "Selecting previously unselected package python-matplotlib.\n",
            "Preparing to unpack .../16-python-matplotlib_2.1.1-2ubuntu3_amd64.deb ...\n",
            "Unpacking python-matplotlib (2.1.1-2ubuntu3) ...\n",
            "Selecting previously unselected package python-pkg-resources.\n",
            "Preparing to unpack .../17-python-pkg-resources_39.0.1-2_all.deb ...\n",
            "Unpacking python-pkg-resources (39.0.1-2) ...\n",
            "Selecting previously unselected package python-nose.\n",
            "Preparing to unpack .../18-python-nose_1.3.7-3_all.deb ...\n",
            "Unpacking python-nose (1.3.7-3) ...\n",
            "Selecting previously unselected package python-olefile.\n",
            "Preparing to unpack .../19-python-olefile_0.45.1-1_all.deb ...\n",
            "Unpacking python-olefile (0.45.1-1) ...\n",
            "Selecting previously unselected package python-pil:amd64.\n",
            "Preparing to unpack .../20-python-pil_5.1.0-1_amd64.deb ...\n",
            "Unpacking python-pil:amd64 (5.1.0-1) ...\n",
            "Selecting previously unselected package python-pluggy.\n",
            "Preparing to unpack .../21-python-pluggy_0.6.0-1_all.deb ...\n",
            "Unpacking python-pluggy (0.6.0-1) ...\n",
            "Selecting previously unselected package python-py.\n",
            "Preparing to unpack .../22-python-py_1.5.2-1_all.deb ...\n",
            "Unpacking python-py (1.5.2-1) ...\n",
            "Selecting previously unselected package python-pytest.\n",
            "Preparing to unpack .../23-python-pytest_3.3.2-2_all.deb ...\n",
            "Unpacking python-pytest (3.3.2-2) ...\n",
            "Selecting previously unselected package python-simplejson.\n",
            "Preparing to unpack .../24-python-simplejson_3.13.2-1_amd64.deb ...\n",
            "Unpacking python-simplejson (3.13.2-1) ...\n",
            "Selecting previously unselected package python-scipy.\n",
            "Preparing to unpack .../25-python-scipy_0.19.1-2ubuntu1_amd64.deb ...\n",
            "Unpacking python-scipy (0.19.1-2ubuntu1) ...\n",
            "Selecting previously unselected package python-sklearn-lib.\n",
            "Preparing to unpack .../26-python-sklearn-lib_0.19.1-3_amd64.deb ...\n",
            "Unpacking python-sklearn-lib (0.19.1-3) ...\n",
            "Selecting previously unselected package python-sklearn.\n",
            "Preparing to unpack .../27-python-sklearn_0.19.1-3_all.deb ...\n",
            "Unpacking python-sklearn (0.19.1-3) ...\n",
            "Setting up python-simplejson (3.13.2-1) ...\n",
            "Setting up python-attr (17.4.0-2) ...\n",
            "Setting up python-backports.functools-lru-cache (1.4-2) ...\n",
            "Setting up python-joblib (0.11-1) ...\n",
            "Setting up python-pluggy (0.6.0-1) ...\n",
            "Setting up python-tz (2018.3-2) ...\n",
            "Setting up python-pkg-resources (39.0.1-2) ...\n",
            "Setting up python-six (1.11.0-2) ...\n",
            "Setting up python-sklearn-lib (0.19.1-3) ...\n",
            "Setting up libjs-jquery-ui (1.12.1+dfsg-5) ...\n",
            "Setting up python-funcsigs (1.0.2-4) ...\n",
            "Setting up python-olefile (0.45.1-1) ...\n",
            "Setting up ttf-bitstream-vera (1.10-8) ...\n",
            "Processing triggers for man-db (2.8.3-2ubuntu0.1) ...\n",
            "Setting up python-decorator (4.1.2-1) ...\n",
            "Setting up javascript-common (11) ...\n",
            "Setting up python-subprocess32 (3.2.7-3) ...\n",
            "Setting up python-nose (1.3.7-3) ...\n",
            "Setting up python-pil:amd64 (5.1.0-1) ...\n",
            "Processing triggers for fontconfig (2.12.6-0ubuntu2) ...\n",
            "Setting up fonts-lyx (2.2.4-0ubuntu0.18.04.1) ...\n",
            "Setting up python-pyparsing (2.2.0+dfsg1-2) ...\n",
            "Setting up python-matplotlib-data (2.1.1-2ubuntu3) ...\n",
            "Setting up python-scipy (0.19.1-2ubuntu1) ...\n",
            "Setting up python-py (1.5.2-1) ...\n",
            "Setting up python-pytest (3.3.2-2) ...\n",
            "Setting up python-cycler (0.10.0-1) ...\n",
            "Setting up python-dateutil (2.6.1-1) ...\n",
            "Setting up python-sklearn (0.19.1-3) ...\n",
            "Setting up python-matplotlib (2.1.1-2ubuntu3) ...\n"
          ],
          "name": "stdout"
        }
      ]
    },
    {
      "cell_type": "markdown",
      "metadata": {
        "id": "Xi_Nd_Pf_XKq",
        "colab_type": "text"
      },
      "source": [
        ""
      ]
    },
    {
      "cell_type": "markdown",
      "metadata": {
        "id": "aT5EykA--oxq",
        "colab_type": "text"
      },
      "source": [
        "###  Используемые данные\n",
        "\n",
        "Рассматривается задача оценки качества вина по его физико-химическим свойствам [1]. Данные размещены в [открытом доступе](https://archive.ics.uci.edu/ml/machine-learning-databases/wine-quality/winequality-red.csv) в репозитории UCI  и содержат 1599 образцов красного вина, описанных 11 признаками, среди которых -- кислотность, процентное содержание сахара, алкоголя и пр. Кроме того, каждому объекту поставлена в соответствие оценка качества по шкале от 0 до 10. Требуется восстановить оценку качества вина по исходному признаковому описанию.\n",
        "\n",
        "[1] P. Cortez, A. Cerdeira, F. Almeida, T. Matos and J. Reis. Modeling wine preferences by data mining from physicochemical properties.  In Decision Support Systems, Elsevier, 47(4):547-553, 2009. "
      ]
    },
    {
      "cell_type": "code",
      "metadata": {
        "id": "ydbzzNdi-oxr",
        "colab_type": "code",
        "colab": {}
      },
      "source": [
        "# Выполним инициализацию основных используемых модулей\n",
        "%matplotlib inline\n",
        "\n",
        "import random\n",
        "import matplotlib.pyplot as plt\n",
        "from sklearn.preprocessing import normalize\n",
        "import numpy as np"
      ],
      "execution_count": 0,
      "outputs": []
    },
    {
      "cell_type": "markdown",
      "metadata": {
        "id": "aWvpb0MG-oxv",
        "colab_type": "text"
      },
      "source": [
        "Выполним загрузку данных"
      ]
    },
    {
      "cell_type": "code",
      "metadata": {
        "id": "1sSqn_Nd-oxw",
        "colab_type": "code",
        "colab": {}
      },
      "source": [
        "with open('winequality-red.csv') as f:\n",
        "    f.readline()  # пропуск заголовочной строки\n",
        "    data = np.loadtxt(f, delimiter=';')"
      ],
      "execution_count": 0,
      "outputs": []
    },
    {
      "cell_type": "markdown",
      "metadata": {
        "id": "iYqUb9lU-oxz",
        "colab_type": "text"
      },
      "source": [
        "В качестве альтернативного варианта, можно выполнить загрузку данных напрямую из репозитория UCI, воспользовавшись библиотекой urllib."
      ]
    },
    {
      "cell_type": "code",
      "metadata": {
        "id": "fORmwaB--oxz",
        "colab_type": "code",
        "colab": {}
      },
      "source": [
        "import urllib\n",
        "# URL for the Wine Quality Data Set (UCI Machine Learning Repository)\n",
        "url = \"https://archive.ics.uci.edu/ml/machine-learning-databases/wine-quality/winequality-red.csv\"\n",
        "# загрузка файла\n",
        "f = urllib.urlopen(url)\n",
        "f.readline()  # пропуск заголовочной строки\n",
        "data = np.loadtxt(f, delimiter=';')"
      ],
      "execution_count": 0,
      "outputs": []
    },
    {
      "cell_type": "markdown",
      "metadata": {
        "id": "J12JVK4k-ox2",
        "colab_type": "text"
      },
      "source": [
        "Выделим из данных целевую переменную. Классы в задаче являются несбалинсированными: основной доле объектов поставлена оценка качества от 5 до 7. Приведем задачу к трехклассовой: объектам с оценкой качества меньше пяти поставим оценку 5, а объектам с оценкой качества больше семи поставим 7. "
      ]
    },
    {
      "cell_type": "code",
      "metadata": {
        "id": "JuWHCrJU-ox3",
        "colab_type": "code",
        "colab": {
          "base_uri": "https://localhost:8080/",
          "height": 51
        },
        "outputId": "314e6e37-b803-4820-feb6-4e91283bdd5f"
      },
      "source": [
        "TRAIN_SIZE = 0.7 # Разделение данных на обучающую и контрольную части в пропорции 70/30%\n",
        "from sklearn.model_selection import train_test_split\n",
        "\n",
        "y = data[:, -1]\n",
        "np.place(y, y < 5, 5)\n",
        "np.place(y, y > 7, 7)\n",
        "y -= min(y)\n",
        "X = data[:, :-1]\n",
        "X = normalize(X)\n",
        "\n",
        "X_train, X_test, y_train, y_test = train_test_split(X, y, train_size=TRAIN_SIZE, random_state=0)"
      ],
      "execution_count": 14,
      "outputs": [
        {
          "output_type": "stream",
          "text": [
            "/usr/local/lib/python2.7/dist-packages/sklearn/model_selection/_split.py:2179: FutureWarning: From version 0.21, test_size will always complement train_size unless both are specified.\n",
            "  FutureWarning)\n"
          ],
          "name": "stderr"
        }
      ]
    },
    {
      "cell_type": "markdown",
      "metadata": {
        "id": "713p3Ay9-ox5",
        "colab_type": "text"
      },
      "source": [
        "### Двуслойная нейронная сеть\n",
        "\n",
        "Двуслойная нейронная сеть представляет собой функцию распознавания, которая може быть записана в виде следующей суперпозиции:\n",
        "\n",
        "$f(x,W)=h^{(2)}\\left(\\sum\\limits_{i=1}^D w_i^{(2)}h^{(1)}\\left(\\sum\\limits_{j=1}^n w_{ji}^{(1)}x_j+b_i^{(1)}\\right)+b^{(2)}\\right)$, где\n",
        "\n",
        "$x$ -- исходный объект (сорт вина, описанный 11 признаками), $x_j$ -- соответствующий признак,\n",
        "\n",
        "$n$ --  количество нейронов во входном слое сети, совпадающее с количеством признаков,\n",
        "\n",
        "$D$ --  количество нейронов в скрытом слое сети,\n",
        "\n",
        "$w_i^{(2)}, w_{ji}^{(1)}, b_i^{(1)}, b^{(2)}$ --  параметры сети, соответствующие весам нейронов,\n",
        "\n",
        "$h^{(1)}, h^{(2)}$ -- функции активации.\n",
        "\n",
        "В качестве функции активации на скрытом слое сети используется линейная функция. На выходном слое сети используется функция активации softmax, являющаяся обобщением сигмоидной функции на многоклассовый случай:\n",
        "\n",
        "$y_k=\\text{softmax}_k(a_1,...,a_k)=\\frac{\\exp(a_k)}{\\sum_{k=1}^K\\exp(a_k)}.$\n",
        "\n"
      ]
    },
    {
      "cell_type": "markdown",
      "metadata": {
        "id": "c0qQG_TL-ox7",
        "colab_type": "text"
      },
      "source": [
        "### Настройка параметров сети\n",
        "\n",
        "Оптимальные параметры сети $W_{opt}$ определяются путем минимизации функции ошибки:\n",
        "\n",
        "$W_{opt}=\\arg\\min\\limits_{W}L(W)+\\lambda\\|W\\|^2$.\n",
        "\n",
        "Здесь $L(W)$ является функцией ошибки многоклассовой классификации,\n",
        "\n",
        "$L(W)=- \\sum^N_{n=1}\\sum^K_{k=1} t_{kn} log(y_{kn}),$\n",
        "\n",
        "$t_{kn}$ -- бинарно закодированные метки классов, $K$ -- количество меток, $N$ -- количество объектов,\n",
        "\n",
        "а $\\lambda\\|W\\|^2$ является регуляризующим слагаемым, контролирующим суммарный вес параметров сети и предотвращающий эффект переобучения.\n",
        "\n",
        "Оптимизация параметров выполняется методом обратного распространения ошибки (backpropagation)."
      ]
    },
    {
      "cell_type": "markdown",
      "metadata": {
        "id": "swAEEApd-ox8",
        "colab_type": "text"
      },
      "source": [
        "Выполним загрузку основных модулей: ClassificationDataSet -- структура данных pybrain, buildNetwork -- инициализация нейронной сети, BackpropTrainer -- оптимизация параметров сети методом backpropagation, SoftmaxLayer -- функция softmax, соответствующая выходному слою сети, percentError -- функцию подсчета ошибки классификации (доля неправильных ответов). "
      ]
    },
    {
      "cell_type": "code",
      "metadata": {
        "id": "LYq0medy-ox9",
        "colab_type": "code",
        "colab": {}
      },
      "source": [
        "from pybrain.datasets import ClassificationDataSet # Структура данных pybrain\n",
        "from pybrain.tools.shortcuts import buildNetwork\n",
        "from pybrain.supervised.trainers import BackpropTrainer\n",
        "from pybrain.structure.modules import SoftmaxLayer\n",
        "from pybrain.utilities import percentError"
      ],
      "execution_count": 0,
      "outputs": []
    },
    {
      "cell_type": "markdown",
      "metadata": {
        "id": "7GZXYqhT-ox_",
        "colab_type": "text"
      },
      "source": [
        "Инициализируем основные параметры задачи: HIDDEN_NEURONS_NUM -- количество нейронов скрытого слоя, MAX_EPOCHS -- максимальное количество итераций алгоритма оптимизации"
      ]
    },
    {
      "cell_type": "code",
      "metadata": {
        "id": "6pru089c-oyA",
        "colab_type": "code",
        "colab": {}
      },
      "source": [
        "# Определение основных констант\n",
        "HIDDEN_NEURONS_NUM = 100 # Количество нейронов, содержащееся в скрытом слое сети\n",
        "MAX_EPOCHS = 100 # Максимальное число итераций алгоритма оптимизации параметров сети"
      ],
      "execution_count": 0,
      "outputs": []
    },
    {
      "cell_type": "markdown",
      "metadata": {
        "id": "-NO8f128-oyD",
        "colab_type": "text"
      },
      "source": [
        "Инициализируем структуру данных ClassificationDataSet, используемую библиотекой pybrain. Для инициализации структура принимает два аргумента: количество признаков *np.shape(X)[1]* и количество различных меток классов *len(np.unique(y))*.\n",
        "\n",
        "Кроме того, произведем бинаризацию целевой переменной с помощью функции *_convertToOneOfMany( )* и разбиение данных на обучающую и контрольную части."
      ]
    },
    {
      "cell_type": "code",
      "metadata": {
        "id": "AMCOLHEW-oyE",
        "colab_type": "code",
        "colab": {}
      },
      "source": [
        "# Конвертация данных в структуру ClassificationDataSet\n",
        "# Обучающая часть\n",
        "ds_train = ClassificationDataSet(np.shape(X)[1], nb_classes=len(np.unique(y_train)))\n",
        "# Первый аргумент -- количество признаков np.shape(X)[1], второй аргумент -- количество меток классов len(np.unique(y_train)))\n",
        "ds_train.setField('input', X_train) # Инициализация объектов\n",
        "ds_train.setField('target', y_train[:, np.newaxis]) # Инициализация ответов; np.newaxis создает вектор-столбец\n",
        "ds_train._convertToOneOfMany( ) # Бинаризация вектора ответов\n",
        "# Контрольная часть\n",
        "ds_test = ClassificationDataSet(np.shape(X)[1], nb_classes=len(np.unique(y_train)))\n",
        "ds_test.setField('input', X_test)\n",
        "ds_test.setField('target', y_test[:, np.newaxis])\n",
        "ds_test._convertToOneOfMany( )"
      ],
      "execution_count": 0,
      "outputs": []
    },
    {
      "cell_type": "markdown",
      "metadata": {
        "id": "TfXE9jm0-oyG",
        "colab_type": "text"
      },
      "source": [
        "Инициализируем двуслойную сеть и произведем оптимизацию ее параметров. Аргументами для инициализации являются:\n",
        "\n",
        "ds.indim -- количество нейронов на входном слое сети, совпадает с количеством признаков (в нашем случае 11),\n",
        "\n",
        "HIDDEN_NEURONS_NUM -- количество нейронов в скрытом слое сети,\n",
        "\n",
        "ds.outdim -- количество нейронов на выходном слое сети, совпадает с количеством различных меток классов (в нашем случае 3),\n",
        "\n",
        "SoftmaxLayer -- функция softmax, используемая на выходном слое для решения задачи многоклассовой классификации."
      ]
    },
    {
      "cell_type": "code",
      "metadata": {
        "scrolled": true,
        "id": "VlnqOAHs-oyH",
        "colab_type": "code",
        "colab": {}
      },
      "source": [
        "np.random.seed(0) # Зафиксируем seed для получения воспроизводимого результата\n",
        "\n",
        "# Построение сети прямого распространения (Feedforward network)\n",
        "net = buildNetwork(ds_train.indim, HIDDEN_NEURONS_NUM, ds_train.outdim, outclass=SoftmaxLayer)\n",
        "# ds.indim -- количество нейронов входного слоя, равне количеству признаков\n",
        "# ds.outdim -- количество нейронов выходного слоя, равное количеству меток классов\n",
        "# SoftmaxLayer -- функция активации, пригодная для решения задачи многоклассовой классификации\n",
        "\n",
        "init_params = np.random.random((len(net.params))) # Инициализируем веса сети для получения воспроизводимого результата\n",
        "net._setParameters(init_params)"
      ],
      "execution_count": 0,
      "outputs": []
    },
    {
      "cell_type": "markdown",
      "metadata": {
        "id": "LsLppzQM-oyK",
        "colab_type": "text"
      },
      "source": [
        " Выполним оптимизацию параметров сети. График ниже показывает сходимость функции ошибки на обучающей/контрольной части."
      ]
    },
    {
      "cell_type": "code",
      "metadata": {
        "id": "BdAljJ5J-oyL",
        "colab_type": "code",
        "colab": {
          "base_uri": "https://localhost:8080/",
          "height": 283
        },
        "outputId": "cb96199c-7366-4869-dcf3-05a44e9d07d0"
      },
      "source": [
        "random.seed(0)\n",
        "# Модуль настройки параметров pybrain использует модуль random; зафиксируем seed для получения воспроизводимого результата\n",
        "trainer = BackpropTrainer(net, dataset=ds_train) # Инициализируем модуль оптимизации\n",
        "err_train, err_val = trainer.trainUntilConvergence(maxEpochs=MAX_EPOCHS)\n",
        "line_train = plt.plot(err_train, 'b', err_val, 'r') # Построение графика\n",
        "xlab = plt.xlabel('Iterations')\n",
        "ylab = plt.ylabel('Error')"
      ],
      "execution_count": 19,
      "outputs": [
        {
          "output_type": "display_data",
          "data": {
            "image/png": "[encoded data removed]",
            "text/plain": [
              "<Figure size 432x288 with 1 Axes>"
            ]
          },
          "metadata": {
            "tags": []
          }
        }
      ]
    },
    {
      "cell_type": "markdown",
      "metadata": {
        "id": "6RlccKTT-oyN",
        "colab_type": "text"
      },
      "source": [
        "Рассчитаем значение доли неправильных ответов на обучающей и контрольной выборке."
      ]
    },
    {
      "cell_type": "code",
      "metadata": {
        "scrolled": true,
        "id": "OkTU_sCS-oyO",
        "colab_type": "code",
        "colab": {
          "base_uri": "https://localhost:8080/",
          "height": 51
        },
        "outputId": "3a668600-f78e-4d61-a8f7-1de0bf4da429"
      },
      "source": [
        "res_train = net.activateOnDataset(ds_train).argmax(axis=1) # Подсчет результата на обучающей выборке\n",
        "print 'Error on train: ', percentError(res_train, ds_train['target'].argmax(axis=1)), '%' # Подсчет ошибки\n",
        "res_test = net.activateOnDataset(ds_test).argmax(axis=1) # Подсчет результата на тестовой выборке\n",
        "print 'Error on test: ', percentError(res_test, ds_test['target'].argmax(axis=1)), '%' # Подсчет ошибки"
      ],
      "execution_count": 20,
      "outputs": [
        {
          "output_type": "stream",
          "text": [
            "Error on train:  49.0616621984 %\n",
            "Error on test:  46.0416666667 %\n"
          ],
          "name": "stdout"
        }
      ]
    },
    {
      "cell_type": "markdown",
      "metadata": {
        "id": "dfo8eFKf-oyR",
        "colab_type": "text"
      },
      "source": [
        "### Задание. Определение оптимального числа нейронов.\n",
        "В задании требуется исследовать зависимость ошибки на контрольной выборке в зависимости от числа нейронов в скрытом слое сети. Количество нейронов, по которому предполагается провести перебор, записано в векторе \n",
        "```\n",
        "hidden_neurons_num = [50, 100, 200, 500, 700, 1000]\n",
        "```\n",
        "\n",
        "1. Для фиксированного разбиения на обучающую и контрольную части подсчитайте долю неправильных ответов (ошибок) классификации на обучении/контроле в зависимости от количества нейронов в скрытом слое сети. Запишите результаты в массивы ```res_train_vec``` и ```res_test_vec```, соответственно. С помощью функции ```plot_classification_error``` постройте график зависимости ошибок на обучении/контроле от количества нейронов. Являются ли графики ошибок возрастающими/убывающими? При каком количестве нейронов достигается минимум ошибок классификации?\n",
        "\n",
        "2. С помощью функции ```write_answer_nn``` запишите в выходной файл число: количество нейронов в скрытом слое сети, для которого достигается минимум ошибки классификации на контрольной выборке."
      ]
    },
    {
      "cell_type": "code",
      "metadata": {
        "id": "_QaaKxsi-oyS",
        "colab_type": "code",
        "colab": {}
      },
      "source": [
        "random.seed(0) # Зафиксируем seed для получния воспроизводимого результата\n",
        "np.random.seed(0)\n",
        "\n",
        "def plot_classification_error(hidden_neurons_num, res_train_vec, res_test_vec):\n",
        "# hidden_neurons_num -- массив размера h, содержащий количество нейронов, по которому предполагается провести перебор,\n",
        "#   hidden_neurons_num = [50, 100, 200, 500, 700, 1000];\n",
        "# res_train_vec -- массив размера h, содержащий значения доли неправильных ответов классификации на обучении;\n",
        "# res_train_vec -- массив размера h, содержащий значения доли неправильных ответов классификации на контроле\n",
        "    plt.figure()\n",
        "    plt.plot(hidden_neurons_num, res_train_vec)\n",
        "    plt.plot(hidden_neurons_num, res_test_vec, '-r')\n",
        "\n",
        "def write_answer_nn(optimal_neurons_num):\n",
        "    with open(\"nnets_answer1.txt\", \"w\") as fout:\n",
        "        fout.write(str(optimal_neurons_num))\n",
        "\n",
        "hidden_neurons_num = [50, 100, 200, 500, 700, 1000]\n",
        "res_train_vec = list()\n",
        "res_test_vec = list()\n",
        "\n",
        "for nnum in hidden_neurons_num:\n",
        "    # Put your code here\n",
        "    # Не забудьте про инициализацию весов командой np.random.random((len(net.params)))\n",
        "    \n",
        "# Постройте график зависимости ошибок на обучении и контроле в зависимости от количества нейронов\n",
        "plot_classification_error(hidden_neurons_num, res_train_vec, res_test_vec)          \n",
        "#  Запишите в файл количество нейронов, при котором достигается минимум ошибки на контроле\n",
        "write_answer_nn(hidden_neurons_num[res_test_vec.index(min(res_test_vec))]) "
      ],
      "execution_count": 0,
      "outputs": []
    }
  ]
}